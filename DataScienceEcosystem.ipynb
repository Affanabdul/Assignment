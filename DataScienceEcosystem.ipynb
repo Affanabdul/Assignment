{
 "cells": [
  {
   "cell_type": "markdown",
   "id": "92c3e319-4100-46fd-9734-c8b9030ba2f1",
   "metadata": {},
   "source": [
    "# Data Science Tools and Ecosystem\n"
   ]
  },
  {
   "cell_type": "markdown",
   "id": "87b8023e-c909-4bde-a977-576f9b49be81",
   "metadata": {},
   "source": [
    "In this notebook, Data Science Tools and Ecosystem are summarized.\n"
   ]
  },
  {
   "cell_type": "markdown",
   "id": "8b9c4850-1bc3-4441-aaf5-cf8ac8cd4f41",
   "metadata": {},
   "source": [
    "Some of the popular languages that Data Scientists use are:\r\n",
    "1. Python\r\n",
    "2. R\r\n",
    "3. SQL\r\n",
    "4. Julia\r\n",
    "5.Java\r\n"
   ]
  },
  {
   "cell_type": "markdown",
   "id": "c9a83a3e-9b7f-4c13-89f9-d76afe0a625f",
   "metadata": {},
   "source": [
    "Some of the commonly used libraries used by Data Scientists include:\r\n",
    "1. NumPy\r\n",
    "2. Pandas\r\n",
    "3. Matplotlib\r\n",
    "4. Scikit-learn\r\n",
    "5. TensoFlow\r\n"
   ]
  },
  {
   "attachments": {},
   "cell_type": "markdown",
   "id": "515ccb75-60d2-4066-b9be-86a53713d7df",
   "metadata": {},
   "source": [
    "| Data Science Tools |\r\n",
    "|--------------------|\r\n",
    "| Jupyter Notebook   |\r\n",
    "| RStudio            |\r\n",
    "| Apache Zeppelin   |\r\n"
   ]
  },
  {
   "cell_type": "markdown",
   "id": "8d354245-27e1-4a37-aa69-65a79039992a",
   "metadata": {},
   "source": [
    "### Below are a few examples of evaluating arithmetic expressions in Python.\n"
   ]
  },
  {
   "cell_type": "code",
   "execution_count": 14,
   "id": "1af583bb-c50d-4571-a84d-3de8f0ae4039",
   "metadata": {},
   "outputs": [
    {
     "data": {
      "text/plain": [
       "17"
      ]
     },
     "execution_count": 14,
     "metadata": {},
     "output_type": "execute_result"
    }
   ],
   "source": [
    "# This is a simple arithmetic expression to multiply then add integers\n",
    "(3*4)+5"
   ]
  },
  {
   "cell_type": "code",
   "execution_count": 15,
   "id": "60bbdc92-2c5c-4014-8e6b-9168ca257fca",
   "metadata": {},
   "outputs": [
    {
     "data": {
      "text/plain": [
       "3.3333333333333335"
      ]
     },
     "execution_count": 15,
     "metadata": {},
     "output_type": "execute_result"
    }
   ],
   "source": [
    "# This will convert 200 minutes to hours by dividing by 60\n",
    "200 / 60\r\n"
   ]
  },
  {
   "cell_type": "markdown",
   "id": "ebfe4612-f5a7-4d78-9597-ea7f31161d67",
   "metadata": {},
   "source": [
    "**Objectives:**\r\n",
    "- List popular languages for Data Science\r\n",
    "- List commonly used libraries in Data Science\r\n",
    "- Create tables to summarize tools used in Data Science\r\n",
    "- Demonstrate arithmetic operations in Python\r\n",
    "- Provide examples of converting units in Pthon\r\n"
   ]
  },
  {
   "cell_type": "markdown",
   "id": "0d5e85c2-1025-4113-9efb-9421e4a35a5b",
   "metadata": {},
   "source": [
    "## Author\r\n",
    "Abdul Affan Bai\r\n"
   ]
  }
 ],
 "metadata": {
  "kernelspec": {
   "display_name": "Python 3 (ipykernel)",
   "language": "python",
   "name": "python3"
  },
  "language_info": {
   "codemirror_mode": {
    "name": "ipython",
    "version": 3
   },
   "file_extension": ".py",
   "mimetype": "text/x-python",
   "name": "python",
   "nbconvert_exporter": "python",
   "pygments_lexer": "ipython3",
   "version": "3.11.7"
  }
 },
 "nbformat": 4,
 "nbformat_minor": 5
}
